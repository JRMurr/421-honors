{
 "cells": [
  {
   "cell_type": "markdown",
   "metadata": {},
   "source": [
    "# data.world\n",
    "## Disasters on Social Media"
   ]
  },
  {
   "cell_type": "markdown",
   "metadata": {},
   "source": [
    "> #### Setup  \n",
    "\n",
    "> Before running data.world notebooks for the first time, you'll need to:  \n",
    "1. Install data.world's Python package, including optional `pandas` dependencies: \n",
    "```shell\n",
    "pip install git+git://github.com/datadotworld/data.world-py.git#egg=project[pandas]\n",
    "```\n",
    "1. Obtain an API access token at https://data.world/settings/advanced\n",
    "1. Store API access token using the `dw` command-line tool: \n",
    "```shell\n",
    "dw configure\n",
    "```\n",
    "\n",
    "> Once your environment is set up, these steps do not need to be repeated for other data.world notebooks."
   ]
  },
  {
   "cell_type": "code",
   "execution_count": 1,
   "metadata": {
    "collapsed": true
   },
   "outputs": [],
   "source": [
    "import datadotworld as dw"
   ]
  },
  {
   "cell_type": "code",
   "execution_count": 2,
   "metadata": {
    "collapsed": true
   },
   "outputs": [],
   "source": [
    "# Datasets are referenced by their path\n",
    "dataset_key = 'crowdflower/disasters-on-social-media'\n",
    "\n",
    "# Or simply by their URL\n",
    "dataset_key = 'https://data.world/crowdflower/disasters-on-social-media'"
   ]
  },
  {
   "cell_type": "code",
   "execution_count": 3,
   "metadata": {},
   "outputs": [],
   "source": [
    "# Load dataset (onto the local file system)\n",
    "dataset_local = dw.load_dataset(dataset_key)  # cached under ~/.dw/cache"
   ]
  },
  {
   "cell_type": "code",
   "execution_count": 4,
   "metadata": {},
   "outputs": [
    {
     "data": {
      "text/plain": [
       "{'description': 'Contributors looked at over 10,000 tweets culled with a variety of searches like \"ablaze\", \"quarantine\", and \"pandemonium\", then noted whether the tweet referred to a disaster event (as opposed to a joke with the word or a movie review or something non-disastrous).   Added: September 4, 2015 by CrowdFlower | Data Rows: 10877 Download Now\\n\\nSource: https://www.crowdflower.com/data-for-everyone/',\n",
       " 'homepage': 'https://data.world/crowdflower/disasters-on-social-media',\n",
       " 'keywords': ['crowdsourced',\n",
       "  'twitter',\n",
       "  'tweets',\n",
       "  'social media',\n",
       "  'disaster',\n",
       "  'sarcasm',\n",
       "  'sentiment'],\n",
       " 'license': 'Public Domain',\n",
       " 'name': 'crowdflower_disasters-on-social-media',\n",
       " 'resources': [{'format': 'csv',\n",
       "   'name': 'socialmedia_disaster_tweets_dfe',\n",
       "   'path': 'data/socialmedia_disaster_tweets_dfe.csv'},\n",
       "  {'bytes': 2208398,\n",
       "   'format': 'csv',\n",
       "   'mediatype': 'text/csv',\n",
       "   'name': 'original/socialmedia-disaster-tweets-DFE.csv',\n",
       "   'path': 'original/socialmedia-disaster-tweets-DFE.csv'}],\n",
       " 'title': 'Disasters on Social Media'}"
      ]
     },
     "execution_count": 4,
     "metadata": {},
     "output_type": "execute_result"
    }
   ],
   "source": [
    "# See what is in it\n",
    "dataset_local.describe()"
   ]
  },
  {
   "cell_type": "markdown",
   "metadata": {},
   "source": [
    "# Next steps\n",
    "\n",
    "- Run `help()` to learn more ways to access and use your data. Try:\n",
    "  - `help(dw.load_dataset)`\n",
    "  - `help(dw.query)`\n",
    "- Learn more at: https://github.com/datadotworld/data.world-py and https://docs.data.world"
   ]
  },
  {
   "cell_type": "code",
   "execution_count": 6,
   "metadata": {
    "scrolled": true
   },
   "outputs": [
    {
     "name": "stdout",
     "output_type": "stream",
     "text": [
      "Help on LocalDataset in module datadotworld.models.dataset object:\n",
      "\n",
      "class LocalDataset(builtins.object)\n",
      " |  Dataset saved in the local file system\n",
      " |  \n",
      " |  .. note:: Datasets are packaged for local access in the form of\n",
      " |            Datapackage.\n",
      " |            See specs at http://specs.frictionlessdata.io/data-package/\n",
      " |  \n",
      " |  :param descriptor_file: Path or handle for the descriptor of the dataset\n",
      " |      (datapackage.json)\n",
      " |  :type descriptor_file: str or file-like object\n",
      " |  \n",
      " |  Attributes\n",
      " |  ----------\n",
      " |  raw_data : dict of bytes\n",
      " |      Mapping of resource names to their content (raw bytes) for all types\n",
      " |      of data contained in the dataset.\n",
      " |  tables : dict of tables\n",
      " |      Mapping of resource names to their data table for all *tabular* data\n",
      " |      contained in the dataset.\n",
      " |      A table is a `list` of rows, where each row is a mapping of field\n",
      " |      names to their respective values.\n",
      " |  dataframes : dict of `pandas.DataFrame`\n",
      " |      Mapping of resource names to their `DataFrame` representation for all\n",
      " |      *tabular* data contained  in the dataset.\n",
      " |  \n",
      " |  Methods defined here:\n",
      " |  \n",
      " |  __eq__(self, other)\n",
      " |      Return self==value.\n",
      " |  \n",
      " |  __init__(self, descriptor_file)\n",
      " |      Initialize self.  See help(type(self)) for accurate signature.\n",
      " |  \n",
      " |  __repr__(self)\n",
      " |      Return repr(self).\n",
      " |  \n",
      " |  describe(self, resource=None)\n",
      " |      Describe dataset or resource within dataset\n",
      " |      \n",
      " |      :param resource: The name of a specific resource (i.e. file or table)\n",
      " |          contained in the dataset. If ``resource`` is None, this method\n",
      " |          will describe the dataset itself. (Default value = None)\n",
      " |      :type resource: str, optional\n",
      " |      :returns: The descriptor of the dataset or of a specific resource, if\n",
      " |      ``resource`` is specified in the call.\n",
      " |      :rtype: dict\n",
      " |  \n",
      " |  ----------------------------------------------------------------------\n",
      " |  Data descriptors defined here:\n",
      " |  \n",
      " |  __dict__\n",
      " |      dictionary for instance variables (if defined)\n",
      " |  \n",
      " |  __weakref__\n",
      " |      list of weak references to the object (if defined)\n",
      " |  \n",
      " |  ----------------------------------------------------------------------\n",
      " |  Data and other attributes defined here:\n",
      " |  \n",
      " |  __hash__ = None\n",
      "\n"
     ]
    }
   ],
   "source": [
    "help(dataset_local)"
   ]
  },
  {
   "cell_type": "code",
   "execution_count": 8,
   "metadata": {},
   "outputs": [
    {
     "name": "stderr",
     "output_type": "stream",
     "text": [
      "/Users/johnmurray/anaconda/envs/keras/lib/python3.6/site-packages/datadotworld/models/dataset.py:194: UserWarning: Unable to set data frame dtypes automatically using socialmedia_disaster_tweets_dfe schema. Data types may need to be adjusted manually. Error: Integer column has NA values in column 12\n",
      "  'Error: {}'.format(resource_name, e))\n"
     ]
    }
   ],
   "source": [
    "df = dataset_local.dataframes['socialmedia_disaster_tweets_dfe']"
   ]
  },
  {
   "cell_type": "code",
   "execution_count": 9,
   "metadata": {},
   "outputs": [
    {
     "data": {
      "text/html": [
       "<div>\n",
       "<style>\n",
       "    .dataframe thead tr:only-child th {\n",
       "        text-align: right;\n",
       "    }\n",
       "\n",
       "    .dataframe thead th {\n",
       "        text-align: left;\n",
       "    }\n",
       "\n",
       "    .dataframe tbody tr th {\n",
       "        vertical-align: top;\n",
       "    }\n",
       "</style>\n",
       "<table border=\"1\" class=\"dataframe\">\n",
       "  <thead>\n",
       "    <tr style=\"text-align: right;\">\n",
       "      <th></th>\n",
       "      <th>unit_id</th>\n",
       "      <th>golden</th>\n",
       "      <th>unit_state</th>\n",
       "      <th>trusted_judgments</th>\n",
       "      <th>last_judgment_at</th>\n",
       "      <th>choose_one</th>\n",
       "      <th>choose_one_confidence</th>\n",
       "      <th>choose_one_gold</th>\n",
       "      <th>keyword</th>\n",
       "      <th>location</th>\n",
       "      <th>text</th>\n",
       "      <th>tweetid</th>\n",
       "      <th>userid</th>\n",
       "    </tr>\n",
       "  </thead>\n",
       "  <tbody>\n",
       "    <tr>\n",
       "      <th>0</th>\n",
       "      <td>778243823</td>\n",
       "      <td>True</td>\n",
       "      <td>golden</td>\n",
       "      <td>156</td>\n",
       "      <td>NaN</td>\n",
       "      <td>Relevant</td>\n",
       "      <td>1.0000</td>\n",
       "      <td>Relevant</td>\n",
       "      <td>NaN</td>\n",
       "      <td>NaN</td>\n",
       "      <td>Just happened a terrible car crash</td>\n",
       "      <td>1</td>\n",
       "      <td>NaN</td>\n",
       "    </tr>\n",
       "    <tr>\n",
       "      <th>1</th>\n",
       "      <td>778243824</td>\n",
       "      <td>True</td>\n",
       "      <td>golden</td>\n",
       "      <td>152</td>\n",
       "      <td>NaN</td>\n",
       "      <td>Relevant</td>\n",
       "      <td>1.0000</td>\n",
       "      <td>Relevant</td>\n",
       "      <td>NaN</td>\n",
       "      <td>NaN</td>\n",
       "      <td>Our Deeds are the Reason of this #earthquake M...</td>\n",
       "      <td>13</td>\n",
       "      <td>NaN</td>\n",
       "    </tr>\n",
       "    <tr>\n",
       "      <th>2</th>\n",
       "      <td>778243825</td>\n",
       "      <td>True</td>\n",
       "      <td>golden</td>\n",
       "      <td>137</td>\n",
       "      <td>NaN</td>\n",
       "      <td>Relevant</td>\n",
       "      <td>1.0000</td>\n",
       "      <td>Relevant</td>\n",
       "      <td>NaN</td>\n",
       "      <td>NaN</td>\n",
       "      <td>Heard about #earthquake is different cities, s...</td>\n",
       "      <td>14</td>\n",
       "      <td>NaN</td>\n",
       "    </tr>\n",
       "    <tr>\n",
       "      <th>3</th>\n",
       "      <td>778243826</td>\n",
       "      <td>True</td>\n",
       "      <td>golden</td>\n",
       "      <td>136</td>\n",
       "      <td>NaN</td>\n",
       "      <td>Relevant</td>\n",
       "      <td>0.9603</td>\n",
       "      <td>Relevant</td>\n",
       "      <td>NaN</td>\n",
       "      <td>NaN</td>\n",
       "      <td>there is a forest fire at spot pond, geese are...</td>\n",
       "      <td>15</td>\n",
       "      <td>NaN</td>\n",
       "    </tr>\n",
       "    <tr>\n",
       "      <th>4</th>\n",
       "      <td>778243827</td>\n",
       "      <td>True</td>\n",
       "      <td>golden</td>\n",
       "      <td>138</td>\n",
       "      <td>NaN</td>\n",
       "      <td>Relevant</td>\n",
       "      <td>1.0000</td>\n",
       "      <td>Relevant</td>\n",
       "      <td>NaN</td>\n",
       "      <td>NaN</td>\n",
       "      <td>Forest fire near La Ronge Sask. Canada</td>\n",
       "      <td>16</td>\n",
       "      <td>NaN</td>\n",
       "    </tr>\n",
       "  </tbody>\n",
       "</table>\n",
       "</div>"
      ],
      "text/plain": [
       "     unit_id  golden unit_state  trusted_judgments last_judgment_at  \\\n",
       "0  778243823    True     golden                156              NaN   \n",
       "1  778243824    True     golden                152              NaN   \n",
       "2  778243825    True     golden                137              NaN   \n",
       "3  778243826    True     golden                136              NaN   \n",
       "4  778243827    True     golden                138              NaN   \n",
       "\n",
       "  choose_one  choose_one_confidence choose_one_gold keyword location  \\\n",
       "0   Relevant                 1.0000        Relevant     NaN      NaN   \n",
       "1   Relevant                 1.0000        Relevant     NaN      NaN   \n",
       "2   Relevant                 1.0000        Relevant     NaN      NaN   \n",
       "3   Relevant                 0.9603        Relevant     NaN      NaN   \n",
       "4   Relevant                 1.0000        Relevant     NaN      NaN   \n",
       "\n",
       "                                                text  tweetid  userid  \n",
       "0                 Just happened a terrible car crash        1     NaN  \n",
       "1  Our Deeds are the Reason of this #earthquake M...       13     NaN  \n",
       "2  Heard about #earthquake is different cities, s...       14     NaN  \n",
       "3  there is a forest fire at spot pond, geese are...       15     NaN  \n",
       "4             Forest fire near La Ronge Sask. Canada       16     NaN  "
      ]
     },
     "execution_count": 9,
     "metadata": {},
     "output_type": "execute_result"
    }
   ],
   "source": [
    "df.head()"
   ]
  }
 ],
 "metadata": {
  "kernelspec": {
   "display_name": "Python 3",
   "language": "python",
   "name": "python3"
  },
  "language_info": {
   "codemirror_mode": {
    "name": "ipython",
    "version": 3
   },
   "file_extension": ".py",
   "mimetype": "text/x-python",
   "name": "python",
   "nbconvert_exporter": "python",
   "pygments_lexer": "ipython3",
   "version": "3.6.2"
  }
 },
 "nbformat": 4,
 "nbformat_minor": 2
}
